{
 "cells": [
  {
   "cell_type": "code",
   "execution_count": 1,
   "id": "3e739f65",
   "metadata": {},
   "outputs": [],
   "source": [
    "import random \n",
    "import pandas as pd\n",
    "import csv"
   ]
  },
  {
   "cell_type": "code",
   "execution_count": 2,
   "id": "7f49c17a",
   "metadata": {},
   "outputs": [],
   "source": [
    "c = 20\n",
    "\n",
    "Fathers = ['Mostafa', 'Ahmed', 'Mohamed', 'Eslam', 'Salah', 'Islam', 'Habib', 'Khalid',\n",
    "        'Fathy', 'Hassan', 'Raffat', 'Moaz', 'Gaber', 'Shady', 'Hisham', 'Ali', 'Ehab']\n",
    "\n",
    "Instructor = ['Mostafa', 'Ahmed', 'Mohamed', 'Eslam', 'Salah', 'Islam', 'Habib', 'Khalid',\n",
    "              'Fathy', 'Hassan', 'Raffat', 'Moaz', 'Gaber', 'Shady', 'Hisham', 'Ali', 'Ehab',\n",
    "              'Asmaa', 'Yara', 'Esraa', 'Mwada', 'Nermeen', 'Sondos',]\n",
    "\n",
    "\n",
    "city = [ 'Cairo','Giza','Alexandria','Al Fayoum','Al Minya','Suez','Asyut','Sohag','Luxor',\n",
    "        'Tanta','Ismailia','Aswan','Qena','Banha']\n",
    "\n",
    "\n",
    "cols = ['Ins_id', 'Ins_Fname', 'Ins_Lname', 'Ins_Address', 'Ins_Age', 'Ins_Password', 'Ins_email','dept_id']"
   ]
  },
  {
   "cell_type": "code",
   "execution_count": 5,
   "id": "93278a96",
   "metadata": {},
   "outputs": [],
   "source": [
    "# Boys dataset\n",
    "df = pd.DataFrame(columns=cols)\n",
    "df['Ins_Fname'] = random.choices(Instructor, k=c)\n",
    "df.loc[:c, 'Ins_Lname'] = random.choices(Fathers, k=c)\n",
    "df.loc[:c, 'Ins_Password'] = random.sample(range(10**1, 10**3), c)\n",
    "df.loc[:c, 'Ins_Age'] = random.sample(range(27, 50), c)\n",
    "df.loc[:c,'Ins_Address'] = random.choices(city, k=c)\n",
    "\n",
    "for i in range(c):\n",
    "    df.loc[i, 'Ins_email'] = df.Ins_Fname[i] + df.Ins_Lname[i] + str(random.randint(1900, 2300)) + '@gmail.com'"
   ]
  },
  {
   "cell_type": "code",
   "execution_count": 6,
   "id": "596e20c1",
   "metadata": {},
   "outputs": [],
   "source": [
    "df.to_csv(\"Instructor_table.csv\",index=False)"
   ]
  },
  {
   "cell_type": "code",
   "execution_count": null,
   "id": "d6cca912",
   "metadata": {},
   "outputs": [],
   "source": []
  }
 ],
 "metadata": {
  "hide_input": false,
  "kernelspec": {
   "display_name": "Python 3",
   "language": "python",
   "name": "python3"
  },
  "language_info": {
   "codemirror_mode": {
    "name": "ipython",
    "version": 3
   },
   "file_extension": ".py",
   "mimetype": "text/x-python",
   "name": "python",
   "nbconvert_exporter": "python",
   "pygments_lexer": "ipython3",
   "version": "3.8.8"
  }
 },
 "nbformat": 4,
 "nbformat_minor": 5
}
