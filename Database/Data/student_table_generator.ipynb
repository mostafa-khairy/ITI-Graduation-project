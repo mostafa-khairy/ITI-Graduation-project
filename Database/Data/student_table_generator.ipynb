{
 "cells": [
  {
   "cell_type": "code",
   "execution_count": 6,
   "id": "7e034576",
   "metadata": {},
   "outputs": [],
   "source": [
    "import random \n",
    "import pandas as pd\n",
    "import csv\n",
    "\n",
    "c = 70\n",
    "\n",
    "boys = ['Mostafa', 'Ahmed', 'Mohamed', 'Eslam', 'Salah', 'Islam', 'Habib', 'Khalid',\n",
    "        'Fathy', 'Hassan', 'Raffat', 'Moaz', 'Gaber', 'Shady', 'Hisham', 'Ali', 'Ehab']\n",
    "\n",
    "girls = ['Asmaa', 'Yara', 'Esraa', 'Mwada', 'Nermeen', 'Sondos', 'Saly', 'Hidy',\n",
    "         'Manar', 'Mariam']\n",
    "\n",
    "city = [ 'Cairo','Giza','Alexandria','Al Fayoum','Al Minya','Suez','Asyut','Sohag','Luxor','Tanta','Ismailia','Aswan','Qena','Banha']\n",
    "\n",
    "cols = ['st_id', 'st_fname', 'st_lname', 'st_address','st_gender', 'st_Password', 'email', 'dept_id']\n",
    "        \n",
    "\n"
   ]
  },
  {
   "cell_type": "code",
   "execution_count": 7,
   "id": "ea192aca",
   "metadata": {},
   "outputs": [],
   "source": [
    "# Boys dataset\n",
    "df = pd.DataFrame(columns=cols)\n",
    "df['st_fname'] = random.choices(boys, k=c)\n",
    "df.loc[:c, 'st_lname'] = random.choices(boys, k=c)\n",
    "df.loc[:c, 'st_gender'] = 'Male'\n",
    "df.loc[:c, 'st_Password'] = random.sample(range(10**1, 10**3), c)\n",
    "df.loc[:c, 'st_DOB'] = random.sample(pd.date_range(\"1/1/1993\", \"1/1/2002\").strftime(\"%d-%m-%Y\").tolist(), c)\n",
    "df.loc[:c,'st_address'] = random.choices(city, k=c)\n",
    "\n",
    "for i in range(c):\n",
    "    df.loc[i, 'email'] = df.st_fname[i] + df.st_lname[i] + str(random.randint(1900, 2300)) + '@gmail.com'"
   ]
  },
  {
   "cell_type": "code",
   "execution_count": 8,
   "id": "96660532",
   "metadata": {},
   "outputs": [],
   "source": [
    "# Girls dataset\n",
    "g = 40\n",
    "\n",
    "df1 = pd.DataFrame(columns=cols)\n",
    "df1['st_fname'] = random.choices(girls, k=g)\n",
    "df1.loc[:g, 'st_lname'] = random.choices(boys, k=g)\n",
    "df1.loc[:g, 'st_gender'] = 'Female'\n",
    "df1.loc[:g, 'st_Password'] = random.sample(range(10**1, 10**3), g)\n",
    "df1.loc[:g, 'st_DOB'] = random.sample(pd.date_range(\"1/1/1993\", \"1/1/2004\").strftime(\"%d-%m-%Y\").tolist(), g)\n",
    "df1.loc[:g,'st_address'] = random.choices(city, k=g)\n",
    "\n",
    "for x in range(g):\n",
    "    df1.loc[x, 'email'] = df.st_fname[x] + df.st_lname[x] + str(random.randint(1900, 2300)) + '@gmail.com'"
   ]
  },
  {
   "cell_type": "code",
   "execution_count": 9,
   "id": "d0bf2932",
   "metadata": {},
   "outputs": [],
   "source": [
    "df_full = pd.concat([df, df1])"
   ]
  },
  {
   "cell_type": "code",
   "execution_count": 10,
   "id": "b916b264",
   "metadata": {},
   "outputs": [],
   "source": [
    "df_full.to_csv(\"student_table.csv\",index=False)"
   ]
  },
  {
   "cell_type": "code",
   "execution_count": null,
   "id": "1f4620f6",
   "metadata": {},
   "outputs": [],
   "source": []
  }
 ],
 "metadata": {
  "hide_input": false,
  "kernelspec": {
   "display_name": "Python 3",
   "language": "python",
   "name": "python3"
  },
  "language_info": {
   "codemirror_mode": {
    "name": "ipython",
    "version": 3
   },
   "file_extension": ".py",
   "mimetype": "text/x-python",
   "name": "python",
   "nbconvert_exporter": "python",
   "pygments_lexer": "ipython3",
   "version": "3.8.8"
  }
 },
 "nbformat": 4,
 "nbformat_minor": 5
}
